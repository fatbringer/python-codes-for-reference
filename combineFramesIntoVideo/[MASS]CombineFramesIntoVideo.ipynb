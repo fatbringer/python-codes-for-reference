{
 "cells": [
  {
   "cell_type": "markdown",
   "id": "74efb76a",
   "metadata": {},
   "source": [
    "### Combine frames into a video"
   ]
  },
  {
   "cell_type": "code",
   "execution_count": 6,
   "id": "7085f490",
   "metadata": {},
   "outputs": [],
   "source": [
    "# importing libraries\n",
    "import os\n",
    "import cv2\n",
    "from tqdm import tqdm\n",
    "from PIL import Image \n",
    "from glob import glob"
   ]
  },
  {
   "cell_type": "code",
   "execution_count": 7,
   "id": "22e0e333",
   "metadata": {},
   "outputs": [],
   "source": [
    "def get_images_in_dir(frames_path):\n",
    "    #getting list of images and preparing list of image names\n",
    "    images = [img for img in os.listdir(frames_path)\n",
    "              if img.endswith(\".jpg\") or\n",
    "                 img.endswith(\".jpeg\") or\n",
    "                 img.endswith(\"png\")]\n",
    "\n",
    "    frame = cv2.imread(os.path.join(frames_path, images[0]))\n",
    "    height, width, layers = frame.shape   #getting dimensions of images \n",
    "\n",
    "    images_list = sorted(images) #sorting because the files will not be read in proper order normally\n",
    "    #print(images) #debug, you should see that the images are listed out in the correct order\n",
    "    return images_list, height, width"
   ]
  },
  {
   "cell_type": "code",
   "execution_count": 14,
   "id": "d0443e45",
   "metadata": {},
   "outputs": [],
   "source": [
    "def make_video_no_annotation(output_path, img_dir, shape):\n",
    "    \n",
    "    #set up video properties\n",
    "    fourcc = cv2.VideoWriter_fourcc(*'mp4v')  # deciding codec and video format \n",
    "    fps = 15\n",
    "\n",
    "    video_path = output_path + '/' + img_dir.split(\"/\")[-1] +  '_fps' + str(fps) + \".mp4\"\n",
    "    print(\"video_path_name is: \", video_path)\n",
    "\n",
    "    video = cv2.VideoWriter(video_path, fourcc, fps, (width, height)) \n",
    "    \n",
    "    ## writes frame number to the top left corner of the screen\n",
    "    for count, image in enumerate(images): \n",
    "        image = cv2.imread(os.path.join(img_dir, image))\n",
    "        cv2.putText(image, str(count), (30,30), cv2.FONT_HERSHEY_SIMPLEX, 1, (255,255,255), 2)\n",
    "        video.write(image) \n",
    "\n",
    "\n",
    "    # Deallocating memories taken for window creation\n",
    "    print('video done writing')\n",
    "    video.release()  # releasing the video generated"
   ]
  },
  {
   "cell_type": "code",
   "execution_count": 15,
   "id": "8858af6a",
   "metadata": {},
   "outputs": [
    {
     "name": "stdout",
     "output_type": "stream",
     "text": [
      "['/home/aevas/Desktop/annotations for YBS/frame_sequences/uav0000072_04488_v', '/home/aevas/Desktop/annotations for YBS/frame_sequences/uav0000079_00480_v', '/home/aevas/Desktop/annotations for YBS/frame_sequences/uav0000084_00000_v', '/home/aevas/Desktop/annotations for YBS/frame_sequences/uav0000088_00290_v', '/home/aevas/Desktop/annotations for YBS/frame_sequences/uav0000099_02109_v', '/home/aevas/Desktop/annotations for YBS/frame_sequences/uav0000297_00000_v']\n"
     ]
    }
   ],
   "source": [
    "img_dirs = []\n",
    "txt_dirs = []\n",
    "#setting frame path and output path\n",
    "main_directory = '/home/aevas/Desktop/annotations for YBS'\n",
    "frames_dir = main_directory + '/frame_sequences'  ##put the folders of frame sequences here\n",
    "output_path = main_directory + '/output' #this folder will fill up with the output vids\n",
    "\n",
    "\n",
    "files = glob(frames_dir + \"/*\", recursive=True)\n",
    "for file in files:\n",
    "    img_dirs.append(os.path.join(frames_dir,file))\n",
    "\n",
    "print(sorted(img_dirs))\n",
    "\n"
   ]
  },
  {
   "cell_type": "code",
   "execution_count": 16,
   "id": "929bf417",
   "metadata": {},
   "outputs": [
    {
     "name": "stdout",
     "output_type": "stream",
     "text": [
      "video_path_name is:  /home/aevas/Desktop/annotations for YBS/output/uav0000072_04488_v_fps15.mp4\n",
      "video done writing\n",
      "video_path_name is:  /home/aevas/Desktop/annotations for YBS/output/uav0000079_00480_v_fps15.mp4\n",
      "video done writing\n",
      "video_path_name is:  /home/aevas/Desktop/annotations for YBS/output/uav0000084_00000_v_fps15.mp4\n",
      "video done writing\n",
      "video_path_name is:  /home/aevas/Desktop/annotations for YBS/output/uav0000088_00290_v_fps15.mp4\n",
      "video done writing\n",
      "video_path_name is:  /home/aevas/Desktop/annotations for YBS/output/uav0000099_02109_v_fps15.mp4\n",
      "video done writing\n",
      "video_path_name is:  /home/aevas/Desktop/annotations for YBS/output/uav0000297_00000_v_fps15.mp4\n",
      "video done writing\n"
     ]
    }
   ],
   "source": [
    "for img_dir in sorted(img_dirs):\n",
    "    images, height, width = get_images_in_dir(img_dir)\n",
    "    make_video_no_annotation(output_path, img_dir, (height,width))"
   ]
  },
  {
   "cell_type": "code",
   "execution_count": null,
   "id": "9218893b",
   "metadata": {},
   "outputs": [],
   "source": []
  }
 ],
 "metadata": {
  "kernelspec": {
   "display_name": "newpy39",
   "language": "python",
   "name": "newpy39"
  },
  "language_info": {
   "codemirror_mode": {
    "name": "ipython",
    "version": 3
   },
   "file_extension": ".py",
   "mimetype": "text/x-python",
   "name": "python",
   "nbconvert_exporter": "python",
   "pygments_lexer": "ipython3",
   "version": "3.9.16"
  }
 },
 "nbformat": 4,
 "nbformat_minor": 5
}
