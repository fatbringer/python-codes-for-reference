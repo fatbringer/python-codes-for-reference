{
 "cells": [
  {
   "cell_type": "markdown",
   "id": "74efb76a",
   "metadata": {},
   "source": [
    "### Combine frames into a video"
   ]
  },
  {
   "cell_type": "code",
   "execution_count": 6,
   "id": "7085f490",
   "metadata": {},
   "outputs": [],
   "source": [
    "# importing libraries\n",
    "import os\n",
    "import cv2\n",
    "from tqdm import tqdm\n",
    "from PIL import Image "
   ]
  },
  {
   "cell_type": "code",
   "execution_count": 7,
   "id": "929bf417",
   "metadata": {},
   "outputs": [
    {
     "name": "stdout",
     "output_type": "stream",
     "text": [
      "frames path is:  /home/aevas/Desktop/annotations for YBS/uav0000072_04488_v\n"
     ]
    }
   ],
   "source": [
    "#setting frame path and output path\n",
    "frames_path = '/home/aevas/Desktop/annotations for YBS/uav0000072_04488_v'\n",
    "output_path = '/home/aevas/Desktop/annotations for YBS/output'\n",
    "\n",
    "print(\"frames path is: \", frames_path)"
   ]
  },
  {
   "cell_type": "code",
   "execution_count": 13,
   "id": "cce1710d",
   "metadata": {},
   "outputs": [
    {
     "name": "stdout",
     "output_type": "stream",
     "text": [
      "['0000001.jpg', '0000002.jpg', '0000003.jpg', '0000004.jpg', '0000005.jpg', '0000006.jpg', '0000007.jpg', '0000008.jpg', '0000009.jpg', '0000010.jpg', '0000011.jpg', '0000012.jpg', '0000013.jpg', '0000014.jpg', '0000015.jpg', '0000016.jpg', '0000017.jpg', '0000018.jpg', '0000019.jpg', '0000020.jpg', '0000021.jpg', '0000022.jpg', '0000023.jpg', '0000024.jpg', '0000025.jpg', '0000026.jpg', '0000027.jpg', '0000028.jpg', '0000029.jpg', '0000030.jpg', '0000031.jpg', '0000032.jpg', '0000033.jpg', '0000034.jpg', '0000035.jpg', '0000036.jpg', '0000037.jpg', '0000038.jpg', '0000039.jpg', '0000040.jpg', '0000041.jpg', '0000042.jpg', '0000043.jpg', '0000044.jpg', '0000045.jpg', '0000046.jpg', '0000047.jpg', '0000048.jpg', '0000049.jpg', '0000050.jpg', '0000051.jpg', '0000052.jpg', '0000053.jpg', '0000054.jpg', '0000055.jpg', '0000056.jpg', '0000057.jpg', '0000058.jpg', '0000059.jpg', '0000060.jpg', '0000061.jpg', '0000062.jpg', '0000063.jpg', '0000064.jpg', '0000065.jpg', '0000066.jpg', '0000067.jpg', '0000068.jpg', '0000069.jpg', '0000070.jpg', '0000071.jpg', '0000072.jpg', '0000073.jpg', '0000074.jpg', '0000075.jpg', '0000076.jpg', '0000077.jpg', '0000078.jpg', '0000079.jpg', '0000080.jpg', '0000081.jpg', '0000082.jpg', '0000083.jpg', '0000084.jpg', '0000085.jpg']\n"
     ]
    }
   ],
   "source": [
    "#getting list of images and preparing list of image names\n",
    "images = [img for img in os.listdir(frames_path)\n",
    "          if img.endswith(\".jpg\") or\n",
    "             img.endswith(\".jpeg\") or\n",
    "             img.endswith(\"png\")]\n",
    "\n",
    "frame = cv2.imread(os.path.join(frames_path, images[0]))\n",
    "height, width, layers = frame.shape   #getting dimensions of images \n",
    "\n",
    "images = sorted(images) #sorting because the files will not be read in proper order normally\n",
    "print(images) #debug, you should see that the images are listed out in the correct order"
   ]
  },
  {
   "cell_type": "code",
   "execution_count": 14,
   "id": "ce8e700e",
   "metadata": {},
   "outputs": [],
   "source": [
    "#set up video properties\n",
    "fourcc = cv2.VideoWriter_fourcc(*'mp4v')  # deciding codec and video format \n",
    "fps = 15"
   ]
  },
  {
   "cell_type": "code",
   "execution_count": 15,
   "id": "5c229780",
   "metadata": {},
   "outputs": [
    {
     "name": "stdout",
     "output_type": "stream",
     "text": [
      "video_path_name is:  /home/aevas/Desktop/annotations for YBS/output/uav0000072_04488_v_fps15.mp4\n",
      "video done writing\n"
     ]
    }
   ],
   "source": [
    "video_path_name = output_path + '/' + frames_path.split(\"/\")[-1] +  '_fps' + str(fps) + \".mp4\"\n",
    "print(\"video_path_name is: \", video_path_name)\n",
    "\n",
    "video = cv2.VideoWriter(video_path_name, fourcc, fps, (width, height)) \n",
    "\n",
    "\n",
    "## writes frame number to the top left corner of the screen\n",
    "for count, image in enumerate(images): \n",
    "    image = cv2.imread(os.path.join(frames_path, image))\n",
    "    cv2.putText(image, str(count), (30,30), cv2.FONT_HERSHEY_SIMPLEX, 1, (255,255,255), 2)\n",
    "    video.write(image) \n",
    "\n",
    "\n",
    "# Deallocating memories taken for window creation\n",
    "print('video done writing')\n",
    "video.release()  # releasing the video generated"
   ]
  }
 ],
 "metadata": {
  "kernelspec": {
   "display_name": "newpy39",
   "language": "python",
   "name": "newpy39"
  },
  "language_info": {
   "codemirror_mode": {
    "name": "ipython",
    "version": 3
   },
   "file_extension": ".py",
   "mimetype": "text/x-python",
   "name": "python",
   "nbconvert_exporter": "python",
   "pygments_lexer": "ipython3",
   "version": "3.9.16"
  }
 },
 "nbformat": 4,
 "nbformat_minor": 5
}
